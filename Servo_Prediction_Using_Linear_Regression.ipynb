{
  "metadata": {
    "kernelspec": {
      "language": "python",
      "display_name": "Python 3",
      "name": "python3"
    },
    "language_info": {
      "name": "python",
      "version": "3.10.13",
      "mimetype": "text/x-python",
      "codemirror_mode": {
        "name": "ipython",
        "version": 3
      },
      "pygments_lexer": "ipython3",
      "nbconvert_exporter": "python",
      "file_extension": ".py"
    },
    "kaggle": {
      "accelerator": "none",
      "dataSources": [],
      "dockerImageVersionId": 30732,
      "isInternetEnabled": false,
      "language": "python",
      "sourceType": "notebook",
      "isGpuEnabled": false
    },
    "colab": {
      "provenance": [],
      "include_colab_link": true
    }
  },
  "nbformat_minor": 0,
  "nbformat": 4,
  "cells": [
    {
      "cell_type": "markdown",
      "metadata": {
        "id": "view-in-github",
        "colab_type": "text"
      },
      "source": [
        "<a href=\"https://colab.research.google.com/github/AlanMJ0/ybiproject/blob/main/Servo_Prediction_Using_Linear_Regression.ipynb\" target=\"_parent\"><img src=\"https://colab.research.google.com/assets/colab-badge.svg\" alt=\"Open In Colab\"/></a>"
      ]
    },
    {
      "cell_type": "markdown",
      "source": [
        "# Servo Prediction using Linear Regression"
      ],
      "metadata": {
        "id": "C5vVcDz7fcv_"
      }
    },
    {
      "cell_type": "markdown",
      "source": [
        "# OBJECTIVE\n",
        "\n",
        "What Is Servo: In control engineering a servomechanism, usually shortened to servo, is an automatic device that uses error-sensing negative\n",
        "feedback to correct the action of a mechanism. On displacement-controlled applications, it usually includes a built-in encoder or other position\n",
        "feedback mechanism to ensure the output is achieving the desired effect. The term correctly applies only to systems where the feedback or\n",
        "error-correction signals help control mechanical position, speed, attitude or any other measurable variables. For example, an automotive power\n",
        "window control is not a servomechanism, as there is no automatic feedback that controls position-the operator does this by observation. By\n",
        "contrast a car's cruise control uses closed-loop feedback, which classifies it as a servomechanism.\n"
      ],
      "metadata": {
        "id": "0Ae-z-2HfcwL"
      }
    },
    {
      "cell_type": "markdown",
      "source": [
        "# Data Source\n",
        "\n",
        "A data frame with 167 observations on 5 variables, 4 nominal and 1 as the target class. This data set is from a simulation of a servo system\n",
        "involving a servo amplifier, a motor, a lead screw/nut, and a sliding carriage of some sort. It may have been on of the translational axes of a\n",
        "robot on the 9th floor of the Al lab. In any case, the output value is almost certainly a rise time, or the time required for the system to respond to\n",
        "a step change in a position set point. The variables that describe the data set and their values are the following:\n",
        "1. MOTOR A,B,C,D,E\n",
        "2. Screw A,B,C,D,E\n",
        "3. Pgain 3,4,5,6\n",
        "4. Vgain 1,2,3,4,5,6\n",
        "5. Class 0.13 to 7.10"
      ],
      "metadata": {
        "id": "nCNuGR7afcwN"
      }
    },
    {
      "cell_type": "markdown",
      "source": [
        "# Import Library"
      ],
      "metadata": {
        "id": "GdyfMi5BfcwO"
      }
    },
    {
      "cell_type": "code",
      "source": [
        "import pandas as pd\n",
        "import numpy as np"
      ],
      "metadata": {
        "execution": {
          "iopub.status.busy": "2024-07-10T12:37:24.409339Z",
          "iopub.execute_input": "2024-07-10T12:37:24.409766Z",
          "iopub.status.idle": "2024-07-10T12:37:24.417853Z",
          "shell.execute_reply.started": "2024-07-10T12:37:24.409735Z",
          "shell.execute_reply": "2024-07-10T12:37:24.416659Z"
        },
        "trusted": true,
        "id": "lxE-AhcbfcwP"
      },
      "outputs": [],
      "execution_count": null
    },
    {
      "cell_type": "markdown",
      "source": [
        "# Import Data"
      ],
      "metadata": {
        "id": "ZD-00iaWfcwS"
      }
    },
    {
      "cell_type": "code",
      "source": [
        "servo = pd.read_csv('/content/Servo Mechanism.csv')"
      ],
      "metadata": {
        "execution": {
          "iopub.status.busy": "2024-07-10T12:37:24.432499Z",
          "iopub.execute_input": "2024-07-10T12:37:24.432882Z",
          "iopub.status.idle": "2024-07-10T12:37:24.751118Z",
          "shell.execute_reply.started": "2024-07-10T12:37:24.432854Z",
          "shell.execute_reply": "2024-07-10T12:37:24.749926Z"
        },
        "trusted": true,
        "id": "zgreiplsfcwU"
      },
      "outputs": [],
      "execution_count": null
    },
    {
      "cell_type": "code",
      "source": [
        "servo.shape"
      ],
      "metadata": {
        "execution": {
          "iopub.status.busy": "2024-07-10T12:37:24.752999Z",
          "iopub.execute_input": "2024-07-10T12:37:24.753358Z",
          "iopub.status.idle": "2024-07-10T12:37:24.760583Z",
          "shell.execute_reply.started": "2024-07-10T12:37:24.753327Z",
          "shell.execute_reply": "2024-07-10T12:37:24.759441Z"
        },
        "trusted": true,
        "id": "ujaG4wISfcwW",
        "colab": {
          "base_uri": "https://localhost:8080/"
        },
        "outputId": "693235be-f245-41ae-bc78-1f59bcd7c22c"
      },
      "outputs": [
        {
          "output_type": "execute_result",
          "data": {
            "text/plain": [
              "(167, 5)"
            ]
          },
          "metadata": {},
          "execution_count": 4
        }
      ],
      "execution_count": null
    },
    {
      "cell_type": "code",
      "source": [
        "servo.columns"
      ],
      "metadata": {
        "execution": {
          "iopub.status.busy": "2024-07-10T12:37:24.761994Z",
          "iopub.execute_input": "2024-07-10T12:37:24.762416Z",
          "iopub.status.idle": "2024-07-10T12:37:24.775734Z",
          "shell.execute_reply.started": "2024-07-10T12:37:24.762363Z",
          "shell.execute_reply": "2024-07-10T12:37:24.774226Z"
        },
        "trusted": true,
        "id": "lbZPnqbxfcwX",
        "colab": {
          "base_uri": "https://localhost:8080/"
        },
        "outputId": "7ae143d8-00e0-4e81-de99-05016a21cd89"
      },
      "outputs": [
        {
          "output_type": "execute_result",
          "data": {
            "text/plain": [
              "Index(['Motor', 'Screw', 'Pgain', 'Vgain', 'Class'], dtype='object')"
            ]
          },
          "metadata": {},
          "execution_count": 5
        }
      ],
      "execution_count": null
    },
    {
      "cell_type": "markdown",
      "source": [
        "# Define Target Variable (y) and Feature Variables (X)"
      ],
      "metadata": {
        "id": "6USMf1aRfcwY"
      }
    },
    {
      "cell_type": "code",
      "source": [
        "servo.replace({'Motor':{'A':0, 'B':1, 'C':2, 'D':3, 'E':4}},inplace=True)\n",
        "servo.replace({'Screw':{'A':0, 'B':1, 'C':2, 'D':3, 'E':4}},inplace=True)"
      ],
      "metadata": {
        "execution": {
          "iopub.status.busy": "2024-07-10T12:37:24.778758Z",
          "iopub.execute_input": "2024-07-10T12:37:24.779163Z",
          "iopub.status.idle": "2024-07-10T12:37:24.791856Z",
          "shell.execute_reply.started": "2024-07-10T12:37:24.779129Z",
          "shell.execute_reply": "2024-07-10T12:37:24.790494Z"
        },
        "trusted": true,
        "id": "BHIkSXx8fcwZ",
        "colab": {
          "base_uri": "https://localhost:8080/"
        },
        "outputId": "6ef279c7-6753-4f14-d052-4877ee3b50eb"
      },
      "outputs": [
        {
          "output_type": "stream",
          "name": "stderr",
          "text": [
            "<ipython-input-6-064898005eb4>:1: FutureWarning: Downcasting behavior in `replace` is deprecated and will be removed in a future version. To retain the old behavior, explicitly call `result.infer_objects(copy=False)`. To opt-in to the future behavior, set `pd.set_option('future.no_silent_downcasting', True)`\n",
            "  servo.replace({'Motor':{'A':0, 'B':1, 'C':2, 'D':3, 'E':4}},inplace=True)\n",
            "<ipython-input-6-064898005eb4>:2: FutureWarning: Downcasting behavior in `replace` is deprecated and will be removed in a future version. To retain the old behavior, explicitly call `result.infer_objects(copy=False)`. To opt-in to the future behavior, set `pd.set_option('future.no_silent_downcasting', True)`\n",
            "  servo.replace({'Screw':{'A':0, 'B':1, 'C':2, 'D':3, 'E':4}},inplace=True)\n"
          ]
        }
      ],
      "execution_count": null
    },
    {
      "cell_type": "code",
      "source": [
        "y = servo['Class']\n",
        "X = servo[['Motor', 'Screw', 'Pgain', 'Vgain']]"
      ],
      "metadata": {
        "execution": {
          "iopub.status.busy": "2024-07-10T12:37:24.793609Z",
          "iopub.execute_input": "2024-07-10T12:37:24.794186Z",
          "iopub.status.idle": "2024-07-10T12:37:24.805141Z",
          "shell.execute_reply.started": "2024-07-10T12:37:24.794146Z",
          "shell.execute_reply": "2024-07-10T12:37:24.803835Z"
        },
        "trusted": true,
        "id": "rRZd-2bGfcwa"
      },
      "outputs": [],
      "execution_count": null
    },
    {
      "cell_type": "code",
      "source": [
        "from sklearn.model_selection import train_test_split\n",
        "X_train, X_test, y_train, y_test = train_test_split(X,y, test_size=0.3, random_state=2529)"
      ],
      "metadata": {
        "execution": {
          "iopub.status.busy": "2024-07-10T12:37:24.806569Z",
          "iopub.execute_input": "2024-07-10T12:37:24.806923Z",
          "iopub.status.idle": "2024-07-10T12:37:24.819884Z",
          "shell.execute_reply.started": "2024-07-10T12:37:24.806895Z",
          "shell.execute_reply": "2024-07-10T12:37:24.818822Z"
        },
        "trusted": true,
        "id": "rOYJguzmfcwb"
      },
      "outputs": [],
      "execution_count": null
    },
    {
      "cell_type": "code",
      "source": [
        "X_train.shape"
      ],
      "metadata": {
        "execution": {
          "iopub.status.busy": "2024-07-10T12:37:24.821522Z",
          "iopub.execute_input": "2024-07-10T12:37:24.821972Z",
          "iopub.status.idle": "2024-07-10T12:37:24.834507Z",
          "shell.execute_reply.started": "2024-07-10T12:37:24.821933Z",
          "shell.execute_reply": "2024-07-10T12:37:24.833444Z"
        },
        "trusted": true,
        "id": "h3LDGbRrfcwc",
        "colab": {
          "base_uri": "https://localhost:8080/"
        },
        "outputId": "958e9156-2c07-4282-b75a-24812763fb99"
      },
      "outputs": [
        {
          "output_type": "execute_result",
          "data": {
            "text/plain": [
              "(116, 4)"
            ]
          },
          "metadata": {},
          "execution_count": 9
        }
      ],
      "execution_count": null
    },
    {
      "cell_type": "code",
      "source": [
        " X_test.shape"
      ],
      "metadata": {
        "execution": {
          "iopub.status.busy": "2024-07-10T12:37:24.836119Z",
          "iopub.execute_input": "2024-07-10T12:37:24.836564Z",
          "iopub.status.idle": "2024-07-10T12:37:24.85213Z",
          "shell.execute_reply.started": "2024-07-10T12:37:24.836526Z",
          "shell.execute_reply": "2024-07-10T12:37:24.850745Z"
        },
        "trusted": true,
        "id": "v9zVWyJbfcwc",
        "colab": {
          "base_uri": "https://localhost:8080/"
        },
        "outputId": "4f6d39bb-0b84-4917-8f4f-ddb8bb7817b6"
      },
      "outputs": [
        {
          "output_type": "execute_result",
          "data": {
            "text/plain": [
              "(51, 4)"
            ]
          },
          "metadata": {},
          "execution_count": 10
        }
      ],
      "execution_count": null
    },
    {
      "cell_type": "code",
      "source": [
        " y_train.shape"
      ],
      "metadata": {
        "execution": {
          "iopub.status.busy": "2024-07-10T12:37:24.853443Z",
          "iopub.execute_input": "2024-07-10T12:37:24.853826Z",
          "iopub.status.idle": "2024-07-10T12:37:24.867469Z",
          "shell.execute_reply.started": "2024-07-10T12:37:24.853798Z",
          "shell.execute_reply": "2024-07-10T12:37:24.865992Z"
        },
        "trusted": true,
        "id": "5lwdXOuSfcwd",
        "colab": {
          "base_uri": "https://localhost:8080/"
        },
        "outputId": "58f9c22e-fd92-45c8-d574-5b898e81268f"
      },
      "outputs": [
        {
          "output_type": "execute_result",
          "data": {
            "text/plain": [
              "(116,)"
            ]
          },
          "metadata": {},
          "execution_count": 11
        }
      ],
      "execution_count": null
    },
    {
      "cell_type": "code",
      "source": [
        " y_test.shape"
      ],
      "metadata": {
        "execution": {
          "iopub.status.busy": "2024-07-10T12:37:24.870572Z",
          "iopub.execute_input": "2024-07-10T12:37:24.87095Z",
          "iopub.status.idle": "2024-07-10T12:37:24.879119Z",
          "shell.execute_reply.started": "2024-07-10T12:37:24.870902Z",
          "shell.execute_reply": "2024-07-10T12:37:24.877866Z"
        },
        "trusted": true,
        "id": "Eu328L-Ffcwe",
        "colab": {
          "base_uri": "https://localhost:8080/"
        },
        "outputId": "14d5847b-92ae-4946-dec9-29c39bf4c359"
      },
      "outputs": [
        {
          "output_type": "execute_result",
          "data": {
            "text/plain": [
              "(51,)"
            ]
          },
          "metadata": {},
          "execution_count": 12
        }
      ],
      "execution_count": null
    },
    {
      "cell_type": "code",
      "source": [
        "from sklearn.linear_model import LinearRegression"
      ],
      "metadata": {
        "execution": {
          "iopub.status.busy": "2024-07-10T12:37:24.880816Z",
          "iopub.execute_input": "2024-07-10T12:37:24.8817Z",
          "iopub.status.idle": "2024-07-10T12:37:24.891183Z",
          "shell.execute_reply.started": "2024-07-10T12:37:24.881664Z",
          "shell.execute_reply": "2024-07-10T12:37:24.889498Z"
        },
        "trusted": true,
        "id": "nTxeG1Rmfcwe"
      },
      "outputs": [],
      "execution_count": null
    },
    {
      "cell_type": "markdown",
      "source": [
        "# Prediction"
      ],
      "metadata": {
        "id": "mzZZp8wPfcwe"
      }
    },
    {
      "cell_type": "code",
      "source": [
        "lr = LinearRegression()\n",
        "lr.fit(X_train, y_train)\n",
        "y_pred = lr.predict(X_test)"
      ],
      "metadata": {
        "execution": {
          "iopub.status.busy": "2024-07-10T12:37:24.892997Z",
          "iopub.execute_input": "2024-07-10T12:37:24.893383Z",
          "iopub.status.idle": "2024-07-10T12:37:24.935949Z",
          "shell.execute_reply.started": "2024-07-10T12:37:24.893349Z",
          "shell.execute_reply": "2024-07-10T12:37:24.934483Z"
        },
        "trusted": true,
        "id": "vItA31Qvfcwf"
      },
      "outputs": [],
      "execution_count": null
    },
    {
      "cell_type": "code",
      "source": [
        "y_pred"
      ],
      "metadata": {
        "execution": {
          "iopub.status.busy": "2024-07-10T12:38:16.387464Z",
          "iopub.execute_input": "2024-07-10T12:38:16.387848Z",
          "iopub.status.idle": "2024-07-10T12:38:16.395369Z",
          "shell.execute_reply.started": "2024-07-10T12:38:16.387819Z",
          "shell.execute_reply": "2024-07-10T12:38:16.394225Z"
        },
        "trusted": true,
        "id": "biena_Wlfcwf",
        "colab": {
          "base_uri": "https://localhost:8080/"
        },
        "outputId": "dae89287-5a05-412d-d3d8-b666a0da3740"
      },
      "outputs": [
        {
          "output_type": "execute_result",
          "data": {
            "text/plain": [
              "array([24.55945258, 30.98765106, 18.54485477, 25.51524243, 38.56082023,\n",
              "       23.52007775, 11.61947065, 20.03335614, 40.60404401, 41.7009556 ,\n",
              "       13.66269443, 26.01242807, 16.50163099, 16.54663453, 21.92598051,\n",
              "       22.52570646, -5.46449561, 30.68912392, 32.7323477 ,  1.41282941,\n",
              "       33.97718702, 31.63543611, 33.52806048, 30.04133887, 19.38557109,\n",
              "        6.49364826, 28.5528375 , 17.04382017, 25.06611589,  3.50411229,\n",
              "       30.59606128, 23.67067716, 35.72188367, 32.08456265, 12.46018697,\n",
              "        3.6547117 , 23.47201865, 33.03087484, 17.49294672, 37.61450804,\n",
              "       27.54898855, 22.07657992, 11.51387478,  9.470651  , 30.53852451,\n",
              "       28.64590014, 33.67865989,  4.60102388, 24.1198037 , 21.13026773,\n",
              "       25.71390094])"
            ]
          },
          "metadata": {},
          "execution_count": 15
        }
      ],
      "execution_count": null
    },
    {
      "cell_type": "markdown",
      "source": [
        "# Model Evaluation"
      ],
      "metadata": {
        "id": "fBkBYI8qfcwg"
      }
    },
    {
      "cell_type": "code",
      "source": [
        "from sklearn.metrics import mean_squared_error, mean_absolute_error, r2_score\n",
        "mean_squared_error(y_test, y_pred)"
      ],
      "metadata": {
        "execution": {
          "iopub.status.busy": "2024-07-10T12:39:27.62751Z",
          "iopub.execute_input": "2024-07-10T12:39:27.62808Z",
          "iopub.status.idle": "2024-07-10T12:39:27.637461Z",
          "shell.execute_reply.started": "2024-07-10T12:39:27.628039Z",
          "shell.execute_reply": "2024-07-10T12:39:27.636372Z"
        },
        "trusted": true,
        "id": "x3x5loVyfcwg",
        "outputId": "336db3c0-bb95-4160-a5a8-59833332d853",
        "colab": {
          "base_uri": "https://localhost:8080/"
        }
      },
      "outputs": [
        {
          "output_type": "execute_result",
          "data": {
            "text/plain": [
              "66.03589175595563"
            ]
          },
          "metadata": {},
          "execution_count": 16
        }
      ],
      "execution_count": null
    },
    {
      "cell_type": "code",
      "source": [
        "mean_absolute_error(y_test, y_pred)"
      ],
      "metadata": {
        "execution": {
          "iopub.status.busy": "2024-07-10T12:39:38.473688Z",
          "iopub.execute_input": "2024-07-10T12:39:38.47409Z",
          "iopub.status.idle": "2024-07-10T12:39:38.482366Z",
          "shell.execute_reply.started": "2024-07-10T12:39:38.474059Z",
          "shell.execute_reply": "2024-07-10T12:39:38.480919Z"
        },
        "trusted": true,
        "id": "PfSkCkhEfcwg",
        "colab": {
          "base_uri": "https://localhost:8080/"
        },
        "outputId": "42b3fe9a-8152-460a-f337-5c1b67e472ed"
      },
      "outputs": [
        {
          "output_type": "execute_result",
          "data": {
            "text/plain": [
              "7.190539677251235"
            ]
          },
          "metadata": {},
          "execution_count": 17
        }
      ],
      "execution_count": null
    },
    {
      "cell_type": "code",
      "source": [
        "r2_score(y_test, y_pred)"
      ],
      "metadata": {
        "execution": {
          "iopub.status.busy": "2024-07-10T12:39:51.806533Z",
          "iopub.execute_input": "2024-07-10T12:39:51.806917Z",
          "iopub.status.idle": "2024-07-10T12:39:51.815259Z",
          "shell.execute_reply.started": "2024-07-10T12:39:51.806891Z",
          "shell.execute_reply": "2024-07-10T12:39:51.81408Z"
        },
        "trusted": true,
        "id": "1_K0gu1-fcwh",
        "colab": {
          "base_uri": "https://localhost:8080/"
        },
        "outputId": "c28c6c42-aec0-4bea-dd0b-c09dadd6a8fd"
      },
      "outputs": [
        {
          "output_type": "execute_result",
          "data": {
            "text/plain": [
              "0.6807245170563927"
            ]
          },
          "metadata": {},
          "execution_count": 18
        }
      ],
      "execution_count": null
    },
    {
      "cell_type": "code",
      "source": [],
      "metadata": {
        "id": "MinTHXyOfcwh"
      },
      "outputs": [],
      "execution_count": null
    }
  ]
}